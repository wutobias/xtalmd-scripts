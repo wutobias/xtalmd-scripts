{
 "cells": [
  {
   "cell_type": "markdown",
   "id": "d9d86ee0",
   "metadata": {},
   "source": [
    "## Analysis xtal minimizations\n",
    "\n",
    "Description: Brief analysis of results from minimizing xtal structures with two different force fields (Sage, Parsley) and three different minimization strategies. The three minimization strategies were:\n",
    "\n",
    "1.) Minimize box paramters and position vectors together (\"All-in-one\")\n",
    "\n",
    "2.) Minimize box parameters and positions vectors in alternating fashion\n",
    "\n",
    "3.) First do 1.), then do 2.)"
   ]
  },
  {
   "cell_type": "code",
   "execution_count": 1,
   "id": "d6f049dd",
   "metadata": {},
   "outputs": [
    {
     "name": "stdout",
     "output_type": "stream",
     "text": [
      "Successful xml: 178\n",
      "Failed xml: 114\n",
      "Successful pdb: 232\n",
      "Failed pdb: 60\n"
     ]
    }
   ],
   "source": [
    "MAIN=\"/nfs/data_onsager/projects/xtalmd/xtalmd-scripts/examples/OFFBenchmark\"\n",
    "success_code_list = list()\n",
    "with open(f\"{MAIN}/success_xml.txt\", \"r\") as fopen:\n",
    "    for line in fopen:\n",
    "        line = line.replace(\"\\n\", \"\")\n",
    "        line = line.replace(\"CIF/\", \"\")\n",
    "        line = line.replace(\".cif\", \"\")\n",
    "        if len(line) > 0:\n",
    "            success_code_list.append(line)\n",
    "            \n",
    "success_xml = 0\n",
    "failed_xml = 0\n",
    "success_pdb = 0\n",
    "failed_pdb = 0\n",
    "with open(f\"{MAIN}/success_xml.txt\", \"r\") as fopen:\n",
    "    success_xml = len(fopen.readlines())-1\n",
    "with open(f\"{MAIN}/failed_xml.txt\", \"r\") as fopen:\n",
    "    failed_xml = len(fopen.readlines())-1\n",
    "with open(f\"{MAIN}/success_pdb.txt\", \"r\") as fopen:\n",
    "    success_pdb = len(fopen.readlines())-1\n",
    "with open(f\"{MAIN}/failed_pdb.txt\", \"r\") as fopen:\n",
    "    failed_pdb = len(fopen.readlines())-1\n",
    "    \n",
    "print(f\"Successful xml: {success_xml}\")\n",
    "print(f\"Failed xml: {failed_xml}\")\n",
    "print(f\"Successful pdb: {success_pdb}\")\n",
    "print(f\"Failed pdb: {failed_pdb}\")"
   ]
  },
  {
   "cell_type": "markdown",
   "id": "631773e9",
   "metadata": {},
   "source": [
    "From 293 CIF files, 232 xtal structures were successfully build and an RDKIT object was generated for molecule in the xtal structure. For 178 of these 232 xtal structures, sage ff parameters were obtained. Failing to obtain ff parameters were due to various reasons, for instance no ff parameter found, no hydrogen present, stereochemistry not clear. However these failures were not well documented at this point."
   ]
  },
  {
   "cell_type": "code",
   "execution_count": 3,
   "id": "f8e82bd0",
   "metadata": {},
   "outputs": [],
   "source": [
    "import os\n",
    "import numpy as np\n",
    "from openmm import app\n",
    "\n",
    "def get_final_ene(path):\n",
    "    if not os.path.exists(path):\n",
    "        return None, None\n",
    "    data=np.loadtxt(path, delimiter=',')\n",
    "    if data.ndim == 1:\n",
    "        final_ene = data[1]\n",
    "        start_ene = data[1]\n",
    "    else:\n",
    "        final_ene = data[-1,1]\n",
    "        start_ene = data[0,1]\n",
    "    return final_ene, start_ene\n",
    "\n",
    "def get_rmsd(pdb_path_1, pdb_path_2):\n",
    "    if not os.path.exists(pdb_path_1):\n",
    "        return None\n",
    "    if not os.path.exists(pdb_path_2):\n",
    "        return None\n",
    "    pos1 = app.PDBFile(pdb_path_1).getPositions(asNumpy=True)\n",
    "    pos2 = app.PDBFile(pdb_path_2).getPositions(asNumpy=True)\n",
    "    topology    = app.PDBFile(pdb_path_1).getTopology()\n",
    "    non_H_idxs  = list()\n",
    "    for atom_idx, atom in enumerate(topology.atoms()):\n",
    "        if atom.element.atomic_number != 1:\n",
    "            non_H_idxs.append(atom_idx)\n",
    "    \n",
    "    diff = np.linalg.norm(\n",
    "        pos1[non_H_idxs]-pos2[non_H_idxs],\n",
    "        axis=1\n",
    "    )\n",
    "    rmsd = np.sqrt(\n",
    "        np.mean(\n",
    "            diff**2\n",
    "        )\n",
    "    )\n",
    "    return rmsd    \n",
    "\n",
    "def retrieve_data(ff_name, query_code_list):\n",
    "    code_list = list()\n",
    "    ene_list = list()\n",
    "    rmsd_list = list()\n",
    "\n",
    "    for code in query_code_list:\n",
    "        ### ================================= ###\n",
    "        ### Simultaneous minimization pos/box ###\n",
    "        ### ================================= ###\n",
    "        ene_min, ene_start = get_final_ene(\n",
    "            f\"{MAIN}/{ff_name}_min/{code}.csv\"\n",
    "        )\n",
    "        rmsd_min = get_rmsd(\n",
    "            f\"{MAIN}/{ff_name}_xml/{code}.pdb\",\n",
    "            f\"{MAIN}/{ff_name}_min/{code}.pdb\"\n",
    "        )\n",
    "\n",
    "        ### ================================ ###\n",
    "        ### Alternating minimization pos/box ###\n",
    "        ### ================================ ###\n",
    "        ene_min_alternating, _ = get_final_ene(\n",
    "            f\"{MAIN}/{ff_name}_min_alternating/{code}.csv\"\n",
    "        )\n",
    "        rmsd_min_alternating = get_rmsd(\n",
    "            f\"{MAIN}/{ff_name}_xml/{code}.pdb\",\n",
    "            f\"{MAIN}/{ff_name}_min_alternating/{code}.pdb\",\n",
    "        )\n",
    "\n",
    "        ### ================================================ ###\n",
    "        ### Subsequent simultaneous/alternating minimization ###\n",
    "        ### ================================================ ###\n",
    "        ene_min_combo, _ = get_final_ene(\n",
    "            f\"{MAIN}/{ff_name}_min_combo/{code}.csv\"\n",
    "        )\n",
    "        rmsd_min_combo = get_rmsd(\n",
    "            f\"{MAIN}/{ff_name}_xml/{code}.pdb\",\n",
    "            f\"{MAIN}/{ff_name}_min_combo/{code}.pdb\",\n",
    "        )    \n",
    "\n",
    "        if any(\n",
    "            [\n",
    "                ene_min == None,\n",
    "                ene_min_alternating == None,\n",
    "                ene_min_combo == None,\n",
    "\n",
    "            ]\n",
    "        ):\n",
    "            print(f\"Could not find {ff_name} minimum energy for {code}\")\n",
    "            continue\n",
    "\n",
    "        code_list.append(code)\n",
    "        ene_list.append(\n",
    "            [\n",
    "                ene_min - ene_start, \n",
    "                ene_min_alternating - ene_start, \n",
    "                ene_min_combo - ene_start\n",
    "            ]\n",
    "        )\n",
    "        rmsd_list.append(\n",
    "            [\n",
    "                rmsd_min,\n",
    "                rmsd_min_alternating,\n",
    "                rmsd_min_combo\n",
    "            ]\n",
    "        )\n",
    "    return code_list, ene_list, rmsd_list"
   ]
  },
  {
   "cell_type": "code",
   "execution_count": 4,
   "id": "a7f2b9eb",
   "metadata": {},
   "outputs": [
    {
     "name": "stdout",
     "output_type": "stream",
     "text": [
      "Could not find parsley minimum energy for 2104943\n",
      "Could not find parsley minimum energy for 2204844\n",
      "Could not find parsley minimum energy for 2220312\n",
      "Could not find parsley minimum energy for 2236004\n",
      "Could not find parsley minimum energy for 2243066\n",
      "Could not find parsley minimum energy for 4116819\n",
      "Could not find parsley minimum energy for 4339655\n",
      "Could not find parsley minimum energy for 4501702\n",
      "Could not find parsley minimum energy for 4513593\n",
      "Could not find parsley minimum energy for 4515127\n",
      "Could not find parsley minimum energy for 7100390\n",
      "Could not find parsley minimum energy for 7214681\n",
      "Could not find parsley minimum energy for 7219235\n",
      "Could not find sage minimum energy for 2012958\n",
      "Could not find sage minimum energy for 2104943\n",
      "Could not find sage minimum energy for 2105702\n",
      "Could not find sage minimum energy for 2217222\n",
      "Could not find sage minimum energy for 2234037\n",
      "Could not find sage minimum energy for 2235036\n",
      "Could not find sage minimum energy for 4506226\n",
      "Could not find sage minimum energy for 7154682\n",
      "Could not find sage minimum energy for 7219235\n",
      "Could not find sage minimum energy for 7219429\n"
     ]
    }
   ],
   "source": [
    "parsley_code_list, parsley_ene_list, parsley_rmsd_list = retrieve_data(\"parsley\", success_code_list)\n",
    "sage_code_list, sage_ene_list, sage_rmsd_list = retrieve_data(\"sage\", success_code_list)"
   ]
  },
  {
   "cell_type": "code",
   "execution_count": 59,
   "id": "4f92f756",
   "metadata": {},
   "outputs": [
    {
     "name": "stdout",
     "output_type": "stream",
     "text": [
      "165 succesful minimizations for Parsley.\n",
      "168 succesful minimizations for Sage.\n"
     ]
    }
   ],
   "source": [
    "print(f\"{len(parsley_code_list)} succesful minimizations for Parsley.\")\n",
    "print(f\"{len(sage_code_list)} succesful minimizations for Sage.\")"
   ]
  },
  {
   "cell_type": "markdown",
   "id": "2f00c040",
   "metadata": {},
   "source": [
    "From the 178 xtal structures with ff parameters found, 165 xtal structures could be successfully minimized using Parsley and 168 were successfully minimized using Sage."
   ]
  },
  {
   "cell_type": "code",
   "execution_count": 61,
   "id": "49c03f80",
   "metadata": {},
   "outputs": [
    {
     "data": {
      "image/png": "[encoded data removed]",
      "text/plain": [
       "<Figure size 432x288 with 1 Axes>"
      ]
     },
     "metadata": {
      "needs_background": "light"
     },
     "output_type": "display_data"
    },
    {
     "data": {
      "image/png": "[encoded data removed]",
      "text/plain": [
       "<Figure size 432x288 with 1 Axes>"
      ]
     },
     "metadata": {
      "needs_background": "light"
     },
     "output_type": "display_data"
    },
    {
     "data": {
      "image/png": "[encoded data removed]",
      "text/plain": [
       "<Figure size 432x288 with 1 Axes>"
      ]
     },
     "metadata": {
      "needs_background": "light"
     },
     "output_type": "display_data"
    }
   ],
   "source": [
    "import matplotlib.pyplot as plt\n",
    "parsley_ene_list = np.array(parsley_ene_list)\n",
    "parsley_rmsd_list = np.array(parsley_rmsd_list)\n",
    "plt.hist(\n",
    "    parsley_rmsd_list[:,0],\n",
    "    density=False,\n",
    "    bins=20\n",
    ")\n",
    "plt.xlim(0,0.25)\n",
    "plt.ylim(0,60)\n",
    "plt.xlabel(\"RMSD [nm]\")\n",
    "plt.ylabel(\"Counts\")\n",
    "plt.title(\"PARSLEY - All-in-one minimization\")\n",
    "plt.show()\n",
    "\n",
    "plt.hist(\n",
    "    parsley_rmsd_list[:,1],\n",
    "    density=False,\n",
    "    bins=20\n",
    ")\n",
    "plt.xlim(0,0.25)\n",
    "plt.ylim(0,60)\n",
    "plt.xlabel(\"RMSD [nm]\")\n",
    "plt.ylabel(\"Counts\")\n",
    "plt.title(\"PARSLEY - Alternating minimization\")\n",
    "plt.show()\n",
    "\n",
    "plt.hist(\n",
    "    parsley_rmsd_list[:,2],\n",
    "    density=False,\n",
    "    bins=20\n",
    ")\n",
    "plt.xlim(0,0.25)\n",
    "plt.ylim(0,60)\n",
    "plt.xlabel(\"RMSD [nm]\")\n",
    "plt.ylabel(\"Counts\")\n",
    "plt.title(\"PARSLEY - All-in-one, then alternating minimization\")\n",
    "plt.show()"
   ]
  },
  {
   "cell_type": "code",
   "execution_count": 60,
   "id": "0848eddc",
   "metadata": {},
   "outputs": [
    {
     "data": {
      "image/png": "[encoded data removed]",
      "text/plain": [
       "<Figure size 432x288 with 1 Axes>"
      ]
     },
     "metadata": {
      "needs_background": "light"
     },
     "output_type": "display_data"
    },
    {
     "data": {
      "image/png": "[encoded data removed]",
      "text/plain": [
       "<Figure size 432x288 with 1 Axes>"
      ]
     },
     "metadata": {
      "needs_background": "light"
     },
     "output_type": "display_data"
    },
    {
     "data": {
      "image/png": "[encoded data removed]",
      "text/plain": [
       "<Figure size 432x288 with 1 Axes>"
      ]
     },
     "metadata": {
      "needs_background": "light"
     },
     "output_type": "display_data"
    }
   ],
   "source": [
    "import matplotlib.pyplot as plt\n",
    "sage_ene_list = np.array(sage_ene_list)\n",
    "sage_rmsd_list = np.array(sage_rmsd_list)\n",
    "plt.hist(\n",
    "    sage_rmsd_list[:,0],\n",
    "    density=False,\n",
    "    bins=20\n",
    ")\n",
    "plt.xlim(0,0.25)\n",
    "plt.ylim(0,60)\n",
    "plt.xlabel(\"RMSD [nm]\")\n",
    "plt.ylabel(\"Counts\")\n",
    "plt.title(\"SAGE - All-in-one minimization\")\n",
    "plt.show()\n",
    "\n",
    "plt.hist(\n",
    "    sage_rmsd_list[:,1],\n",
    "    density=False,\n",
    "    bins=20\n",
    ")\n",
    "plt.xlim(0,0.25)\n",
    "plt.ylim(0,60)\n",
    "plt.xlabel(\"RMSD [nm]\")\n",
    "plt.ylabel(\"Counts\")\n",
    "plt.title(\"SAGE - Alternating minimization\")\n",
    "plt.show()\n",
    "\n",
    "plt.hist(\n",
    "    sage_rmsd_list[:,2],\n",
    "    density=False,\n",
    "    bins=20\n",
    ")\n",
    "plt.xlim(0,0.25)\n",
    "plt.ylim(0,60)\n",
    "plt.xlabel(\"RMSD [nm]\")\n",
    "plt.ylabel(\"Counts\")\n",
    "plt.title(\"SAGE - All-in-one, then alternating minimization\")\n",
    "plt.show()"
   ]
  },
  {
   "cell_type": "markdown",
   "id": "e5f26477",
   "metadata": {},
   "source": [
    "Overall it seems that \"All-in-one\" minimization did not perform as well as the other two. In many cases (not documented how many) the BFGS minimizer stopped after only few iterations with the warning \"Desired error not necessarily achieved due to precision loss.\". This potentially solvable by carefully playing with the parameters of the algorithm.\n",
    "\n",
    "The alternate routes involving the alternating minimization worked better here."
   ]
  }
 ],
 "metadata": {
  "kernelspec": {
   "display_name": "Python [conda env:xtalmd] *",
   "language": "python",
   "name": "conda-env-xtalmd-py"
  },
  "language_info": {
   "codemirror_mode": {
    "name": "ipython",
    "version": 3
   },
   "file_extension": ".py",
   "mimetype": "text/x-python",
   "name": "python",
   "nbconvert_exporter": "python",
   "pygments_lexer": "ipython3",
   "version": "3.7.12"
  },
  "latex_envs": {
   "LaTeX_envs_menu_present": true,
   "autoclose": false,
   "autocomplete": true,
   "bibliofile": "biblio.bib",
   "cite_by": "apalike",
   "current_citInitial": 1,
   "eqLabelWithNumbers": true,
   "eqNumInitial": 1,
   "hotkeys": {
    "equation": "Ctrl-E",
    "itemize": "Ctrl-I"
   },
   "labels_anchors": false,
   "latex_user_defs": false,
   "report_style_numbering": false,
   "user_envs_cfg": false
  }
 },
 "nbformat": 4,
 "nbformat_minor": 5
}
